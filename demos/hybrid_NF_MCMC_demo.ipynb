{
 "cells": [
  {
   "cell_type": "markdown",
   "metadata": {},
   "source": [
    "# Hybrid NF-MCMC Demo\n",
    "### Run script to run example Algorithm 1 and 2 experiments"
   ]
  },
  {
   "cell_type": "code",
   "execution_count": null,
   "metadata": {},
   "outputs": [],
   "source": [
    "import time\n",
    "import argparse\n",
    "import torch\n",
    "import numpy as np\n",
    "import sys\n",
    "import json\n",
    "from matplotlib import pyplot as plt\n",
    "from tqdm import tqdm, trange\n",
    "from torch.utils.data import DataLoader, TensorDataset\n",
    "from scipy.spatial.distance import squareform, cdist\n",
    "import pandas as pd\n",
    "import os\n",
    "from demo_utils import get_project_root\n",
    "\n",
    "# Add the custom path for normflows\n",
    "project_root = get_project_root()\n",
    "nf_path = os.path.join(project_root, \"NF\")\n",
    "sys.path.append(nf_path)\n",
    "import normflows as nf\n",
    "\n",
    "# Import visualization functions from utils\n",
    "from utils import (set_icl_color_cycle, get_icl_heatmap_cmap, \n",
    "                   generate_samples, plot_frequency_heatmap, calculate_pair_correlation, \n",
    "                   plot_pair_correlation, save_rdf_data, plot_loss, plot_frequency_heatmap, \n",
    "                   plot_pair_correlation)\n",
    "\n",
    "set_icl_color_cycle()\n",
    "cmap_div = get_icl_heatmap_cmap(\"diverging\")"
   ]
  }
 ],
 "metadata": {
  "kernelspec": {
   "display_name": "repo_test",
   "language": "python",
   "name": "python3"
  },
  "language_info": {
   "name": "python",
   "version": "3.11.0"
  }
 },
 "nbformat": 4,
 "nbformat_minor": 2
}
